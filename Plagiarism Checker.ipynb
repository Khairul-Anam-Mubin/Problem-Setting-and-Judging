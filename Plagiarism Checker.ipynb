{
  "nbformat": 4,
  "nbformat_minor": 0,
  "metadata": {
    "colab": {
      "name": "copyChecker.ipynb",
      "provenance": [],
      "collapsed_sections": []
    },
    "kernelspec": {
      "name": "python3",
      "display_name": "Python 3"
    }
  },
  "cells": [
    {
      "cell_type": "code",
      "metadata": {
        "id": "tbp8nZm3U9Qc"
      },
      "source": [
        "from difflib import SequenceMatcher\n",
        "import json\n",
        "from glob import glob\n",
        "import pandas as pd\n",
        "import re\n",
        "import string"
      ],
      "execution_count": 1,
      "outputs": []
    },
    {
      "cell_type": "code",
      "metadata": {
        "id": "j-CuGWn8W5FA"
      },
      "source": [
        "!mkdir /content/data\n",
        "#!unzip /content/bubt-iupc-spring-2020-senior.zip -d /content/data\n",
        "!unzip /content/codes.zip -d /content/data"
      ],
      "execution_count": null,
      "outputs": []
    },
    {
      "cell_type": "code",
      "metadata": {
        "id": "Ih5-7vRfXCFG"
      },
      "source": [
        "cppfiles = glob('/content/data/*.cpp')\n",
        "jsonfiles = glob('/content/data/*.json')\n",
        "cppfiles.sort()\n",
        "jsonfiles.sort()"
      ],
      "execution_count": 5,
      "outputs": []
    },
    {
      "cell_type": "code",
      "metadata": {
        "id": "8hVUezU0xSF9"
      },
      "source": [
        "keywords = \"\"\"asm else new this main\n",
        "auto\tenum\toperator\tthrow\n",
        "bool\texplicit\tprivate\ttrue\n",
        "break\texport\tprotected\ttry\n",
        "case\textern\tpublic\ttypedef\n",
        "catch\tfalse\tregister\ttypeid\n",
        "char\tfloat\treinterpret_cast\ttypename\n",
        "class\tfor\treturn\tunion\n",
        "const\tfriend\tshort\tunsigned\n",
        "const_cast\tgoto\tsigned\tusing\n",
        "continue\tif\tsizeof\tvirtual\n",
        "default\tinline\tstatic\tvoid\n",
        "delete\tint\tstatic_cast\tvolatile\n",
        "do\tlong\tstruct\twchar_t\n",
        "double\tmutable\tswitch\twhile\n",
        "dynamic_cast\tnamespace\ttemplate\n",
        "using std include define\n",
        "bits stdc\n",
        "iostream\n",
        "stdio printf scanf cin cout bits \n",
        "\"\"\"\n",
        "keywords = set(keywords.split())\n",
        "\n",
        "def cpp_parser(codefile):\n",
        "    ret = []\n",
        "    with open(codefile) as f:\n",
        "        for line in f.readlines():\n",
        "            line = line.strip()\n",
        "            \n",
        "            # Ignore the comments\n",
        "            if line.startswith('//'):\n",
        "                continue\n",
        "            \n",
        "            data = line.split()\n",
        "            for dat in data:\n",
        "                vals = re.split(f\"[{string.punctuation}]\", dat)\n",
        "                #ret = ret + vals\n",
        "                #print(vals)\n",
        "                for val in vals:\n",
        "                    if val in keywords or len(val) == 0:\n",
        "                        continue\n",
        "                    #print('adding', val)\n",
        "                    ret.append(val)\n",
        "    #print(ret)\n",
        "    return ret"
      ],
      "execution_count": 6,
      "outputs": []
    },
    {
      "cell_type": "code",
      "metadata": {
        "id": "bNzLMoBRYRS3"
      },
      "source": [
        "data = []\n",
        "data_non_parsed = dict()\n",
        "\n",
        "for cpp, jsn in zip(cppfiles, jsonfiles):\n",
        "    fname1 = (((str(cpp).split('/'))[-1]).split('.'))[0]\n",
        "    fname2 = (((str(jsn).split('/'))[-1]).split('.'))[0]\n",
        "\n",
        "    if fname1 != fname2:\n",
        "        print('Error in file', fname1, fname2)\n",
        "\n",
        "    with open(cpp) as f:\n",
        "        code = ''.join(cpp_parser(cpp))\n",
        "    \n",
        "    with open(jsn) as f:\n",
        "        jinfo = json.load(f)\n",
        "    jinfo['code'] = code\n",
        "    data.append(jinfo)\n",
        "\n",
        "    # Read the orginal code, to manually check\n",
        "    with open(cpp) as f:\n",
        "        jinfo['code'] = f.read()\n",
        "    data_non_parsed[jinfo['id']] = jinfo"
      ],
      "execution_count": 7,
      "outputs": []
    },
    {
      "cell_type": "code",
      "metadata": {
        "id": "zU3-UpnDcnkD",
        "colab": {
          "base_uri": "https://localhost:8080/"
        },
        "outputId": "684aece5-53b9-40ea-bf42-23b1e564856b"
      },
      "source": [
        "ratio = 0.8\n",
        "skipped_problems = [2026, 2013,] #2025]\n",
        "\n",
        "for i in range(len(data)):\n",
        "    if data[i]['verdict'] != 'ACCEPTED': continue\n",
        "    if data[i]['problem_id'] in skipped_problems: continue\n",
        "\n",
        "    same = set()\n",
        "    minmatch = 1\n",
        "    for j in range(i+1, len(data)):\n",
        "        if data[j]['problem_id'] in skipped_problems: continue\n",
        "        if data[j]['verdict'] != 'ACCEPTED': continue\n",
        "        if data[i]['problem_id'] != data[j]['problem_id']: continue\n",
        "        if data[i]['user_id'] == data[j]['user_id']: continue\n",
        "        #if data[i]['contest_id'] == data[j]['contest_id']: continue\n",
        "\n",
        "        r = SequenceMatcher(None, data[i]['code'], data[j]['code']).ratio()\n",
        "        if r >= ratio:\n",
        "            same.add((data[j]['id'], data[j]['user_id'], data[j]['contest_id']))\n",
        "            same.add((data[i]['id'], data[i]['user_id'], data[i]['contest_id']))\n",
        "            minmatch = min(minmatch, r)\n",
        "            print(f\"{data[i]['problem_id']}, {same}, {minmatch:.2f}\")\n",
        "            same.clear()\n",
        "\n",
        "    #if len(same) != 0:\n",
        "    #    print(f\"{data[i]['problem_id']}, {same}, {minmatch:.2f}\")"
      ],
      "execution_count": 10,
      "outputs": [
        {
          "output_type": "stream",
          "text": [
            "2025, {(21098, 2056, 2004), (21149, 2004, 2004)}, 0.87\n",
            "2025, {(21098, 2056, 2004), (21154, 2099, 2004)}, 0.86\n",
            "2025, {(21124, 2053, 2004), (21126, 2026, 2004)}, 1.00\n",
            "2025, {(21131, 2037, 2004), (21128, 2098, 2004)}, 1.00\n",
            "2014, {(21153, 2026, 2004), (21191, 2053, 2004)}, 0.97\n"
          ],
          "name": "stdout"
        }
      ]
    },
    {
      "cell_type": "code",
      "metadata": {
        "id": "3YNwIXOct0mV"
      },
      "source": [
        "#\n",
        "# 2014, {(21153, 2026, 2004), (21191, 2053, 2004)}, 0.97\n",
        "# Hasn't been eleminated.\n",
        "\n",
        "# 2025, {(21131, 2037, 2004), (21128, 2098, 2004)}, 1.00\n",
        "# 2025, {(21124, 2053, 2004), (21126, 2026, 2004)}, 1.00\n",
        "# \"Team Underrated\" and \"Masked\" have been disqualified due to the usage of double accounts. The teams will be removed after the contest."
      ],
      "execution_count": null,
      "outputs": []
    },
    {
      "cell_type": "code",
      "metadata": {
        "id": "CLD9Lkb1tuTS",
        "colab": {
          "base_uri": "https://localhost:8080/",
          "height": 799
        },
        "outputId": "f4244219-7648-460c-ea56-3ec3fa46d0bd"
      },
      "source": [
        "print(data_non_parsed[16071]['code'])"
      ],
      "execution_count": null,
      "outputs": [
        {
          "output_type": "stream",
          "text": [
            "#include <bits/stdc++.h>\n",
            "using namespace std;\n",
            "int main(){\n",
            "    int a,b,sum;\n",
            "    cin>>a>>b;\n",
            "    sum=0;\n",
            "    if(a%2==0){\n",
            "        cout<<a<<\" \"<<\"is even\"<<endl;\n",
            "        sum+=a;\n",
            "    }\n",
            "    else{\n",
            "         cout<<a<<\" \"<<\"is odd\"<<endl;\n",
            "         sum-=a;\n",
            "    }\n",
            "    if(b>0){\n",
            "        cout<<b<<\" \"<<\"is greater than zero\"<<endl;\n",
            "        sum+=b;\n",
            "    }\n",
            "    else if(b<0){\n",
            "        cout<<b<<\" \"<<\"is less than zero\"<<endl;\n",
            "        sum-=b;\n",
            "    }\n",
            "    else{\n",
            "        cout<<b<<\" \"<<\"is equal to zero\"<<endl;\n",
            "        sum*=b;\n",
            "    }\n",
            "    cout<<\"after adding,a+b is equal to\"<<\" \"<<a+b<<endl;\n",
            "    if((a+b)%2==0){\n",
            "            sum+=a+b;\n",
            "        cout<<\"after adding\"<<\" \"<<a<<\" \"<<b<<\" \"<<\"sum is equal to\"<<\" \"<<sum<<endl;\n",
            "    }\n",
            "    else{\n",
            "        sum-=a+b;\n",
            "        cout<<\"after removing\"<<\" \"<<a<<\" \"<<b<<\"sum is equal to\"<<sum<<endl;\n",
            "    }\n",
            "    if((a+b)==0){\n",
            "        sum*=10;\n",
            "        cout<<\"the result after multiplying sum = \"<<sum<<endl;\n",
            "    }\n",
            "    sum*=5;\n",
            "    cout<<\"THE ULTIMATE RESULT = \"<<sum<<endl;\n",
            "    cout<<\"I wanna be a national contestant and I can write long code\"<<endl;\n",
            "    return 0;\n",
            "\n",
            "\n",
            "}\n"
          ],
          "name": "stdout"
        }
      ]
    },
    {
      "cell_type": "code",
      "metadata": {
        "id": "wcH25L5yuIcp",
        "colab": {
          "base_uri": "https://localhost:8080/",
          "height": 884
        },
        "outputId": "b25a638c-f8ef-4929-b212-b4acb8c6ec21"
      },
      "source": [
        "print(data_non_parsed[15786]['code'])"
      ],
      "execution_count": null,
      "outputs": [
        {
          "output_type": "stream",
          "text": [
            "#include<bits/stdc++.h>\n",
            "using namespace std;\n",
            "int main()\n",
            "{\n",
            "    int a,b;\n",
            "    cin>>a>>b;\n",
            "    int sum=0;\n",
            "    if(a%2==0)\n",
            "    {\n",
            "        cout<<a<<\" is even\"<<endl;\n",
            "        sum+=a;\n",
            "    }\n",
            "    if(a%2!=0)\n",
            "    {\n",
            "        cout<<a<<\" is odd\"<<endl;\n",
            "        sum-=a;\n",
            "    }\n",
            "    if(b>0)\n",
            "    {\n",
            "        cout<<b<<\" is greater than zero\"<<endl;\n",
            "        sum+=b;\n",
            "    }\n",
            "    if(b<0)\n",
            "    {\n",
            "        cout<<b<<\" is less than zero\"<<endl;\n",
            "        sum-=b;\n",
            "    }\n",
            "    if(b==0)\n",
            "    {\n",
            "        cout<<b<<\" is equal to zero\"<<endl;\n",
            "        sum*=b;\n",
            "    }\n",
            "    cout<<\"after adding,a+b is equal to \"<<a+b<<endl;\n",
            "    if((a+b)%2==0)\n",
            "    {\n",
            "        sum+=a;\n",
            "        sum+=b;\n",
            "        cout<<\"after adding \"<<a<<\" \"<<b<<\" \"<<\"sum is equal to \"<<sum<<endl;\n",
            "\n",
            "    }\n",
            "    if((a+b)==0)\n",
            "    {\n",
            "        sum*=10;\n",
            "        cout<<\"the result after multiplying sum = \"<<sum<<endl;\n",
            "\n",
            "    }\n",
            "    sum*=5;\n",
            "    cout<<\"THE ULTIMATE RESULT = \"<<sum<<endl;\n",
            "    cout<<\"I wanna be a national contestant and I can write long code\"<<endl;\n",
            "    return 0;\n",
            "}\n"
          ],
          "name": "stdout"
        }
      ]
    },
    {
      "cell_type": "code",
      "metadata": {
        "id": "b4YHElT_39TW"
      },
      "source": [
        ""
      ],
      "execution_count": null,
      "outputs": []
    }
  ]
}